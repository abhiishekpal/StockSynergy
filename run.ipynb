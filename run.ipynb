{
 "cells": [
  {
   "cell_type": "code",
   "execution_count": null,
   "metadata": {
    "id": "z6ByNQwFLLi_"
   },
   "outputs": [],
   "source": [
    "import numpy as np\n",
    "import pandas as pd\n",
    "import plotly.express as px\n",
    "import plotly.graph_objects as go\n",
    "from tqdm import tqdm\n",
    "\n",
    "from datetime import datetime\n",
    "import yfinance as yf\n",
    "import matplotlib.pyplot as plt\n",
    "import scipy.stats as stats"
   ]
  },
  {
   "cell_type": "code",
   "execution_count": null,
   "metadata": {},
   "outputs": [],
   "source": [
    "from utils import *\n",
    "from data_handler import DataHandler\n",
    "from feature_engineering import FeatureEngineering"
   ]
  },
  {
   "cell_type": "code",
   "execution_count": null,
   "metadata": {
    "id": "XXamLAynO8QD"
   },
   "outputs": [],
   "source": [
    "data_handler = DataHandler()\n",
    "feature_handler = FeatureEngineering()"
   ]
  },
  {
   "cell_type": "code",
   "execution_count": null,
   "metadata": {
    "colab": {
     "base_uri": "https://localhost:8080/"
    },
    "id": "vJnm0GBkO8L-",
    "outputId": "f947bf2d-14d7-483c-be49-58b79af050f5"
   },
   "outputs": [],
   "source": [
    "# Due to 3 of the Stocks having different class, we have 503 classes instead of 500, those companies being (GOOG, GOOGL), (FOX, FOXA), (NWS, NWSA)\n",
    "print(\"Total S&P 500 Companies: \", len(data_handler))"
   ]
  },
  {
   "cell_type": "code",
   "execution_count": null,
   "metadata": {
    "colab": {
     "base_uri": "https://localhost:8080/",
     "height": 424
    },
    "id": "YfmoGbM9O8HF",
    "outputId": "927f11c3-6d83-432f-89e0-c9f8c28e460e"
   },
   "outputs": [],
   "source": [
    "snp = data_handler.get_snp()\n",
    "display(snp)"
   ]
  },
  {
   "cell_type": "code",
   "execution_count": null,
   "metadata": {
    "colab": {
     "base_uri": "https://localhost:8080/"
    },
    "id": "gv36MSUVO8Cp",
    "outputId": "82826a2c-d143-48b2-809c-67388212c8cb"
   },
   "outputs": [],
   "source": [
    "# The Following Stocks have multiple types, and they follow similar behavious\n",
    "\n",
    "snp = snp.loc[~snp[\"Symbol\"].isin([\"GOOG\", \"FOX\", \"NWS\"])]\n",
    "tickers = snp[\"Symbol\"].unique().tolist()#[:30]\n",
    "print(\"Total Unique Tickers: \", len(tickers))"
   ]
  },
  {
   "cell_type": "code",
   "execution_count": null,
   "metadata": {
    "id": "Myor8oMPtt3G"
   },
   "outputs": [],
   "source": []
  },
  {
   "cell_type": "markdown",
   "metadata": {
    "id": "TvAM0Y-Etu0p"
   },
   "source": [
    "# STORING AND PREPARING AVERAGE RETURN DATA FOR FUTURE"
   ]
  },
  {
   "cell_type": "code",
   "execution_count": null,
   "metadata": {
    "colab": {
     "base_uri": "https://localhost:8080/",
     "height": 632,
     "referenced_widgets": [
      "608308cda7fa42cdb46dc519b29e20fc",
      "c0ba67b373e2464f8c84d5d05f150807",
      "bf48e52414644136947233e1a5ca9af7",
      "b11b2b5d8a0044e0b730431e668d4848",
      "1feb6652cf6246b5af79bcaef4200557",
      "16f7116cf97e4499a15fc1bac1ce1311",
      "5ec216141ecf426fa7f09b9f69a27dee",
      "1c815be6410b4d2d9479fa027b3fbe8a",
      "7d4fca7e63c343ccbacd7d056b08e98e",
      "14819bb86f594bb48b40c569d8302ff4",
      "aa3221c514f143ac8f01232f7c00dc6d"
     ]
    },
    "id": "naNHPuecO75Y",
    "outputId": "1b1f9b05-10f9-4e90-89d3-22547ffb126d"
   },
   "outputs": [],
   "source": [
    "\"\"\"\n",
    "For each Stock in our SNP500, we fetch the data and prepare the features that will be used to label \n",
    "the stock at each timestamp\n",
    "\"\"\"\n",
    "\n",
    "\n",
    "all_feature = []\n",
    "for ticker in tqdm(tickers[:]): # iterating over all tickers from snp500\n",
    "  try:\n",
    "    # Fetch the data for a given stock\n",
    "    df = data_handler.get_data(ticker)\n",
    "    # Check if the datframe length is 0 we will not consider this stock for further experiment\n",
    "    if len(df)==0:\n",
    "      print(f\"Skipping Ticker: {ticker} due to :: no data download\")\n",
    "      continue\n",
    "    # fill in the stock dates between start date and end date\n",
    "    # we fill the price from missing date with the last observed date values\n",
    "    df = feature_handler.fill_missing_date(df.copy())\n",
    "  except Exception as e:\n",
    "    print(f\"Skipping Ticker: {ticker} due to :: {e}\")\n",
    "    continue\n",
    "\n",
    "  # create a column with the rate of price difference change between current price and price in 2 year future\n",
    "  df_price_diff = feature_handler.get_price_diff(df.copy())\n",
    "  # create columns with the mean and std of the rate of change over different window period (currently done for 7 days and 60 days)\n",
    "  df_price_diff = feature_handler.add_rolling_average(df_price_diff.copy())\n",
    "\n",
    "  # create columns that are then used to label stock at each point (taking into account the price diff and near window changes)\n",
    "  feature = feature_handler.get_feature(df_price_diff)\n",
    "  # add ticker name to the dataframe\n",
    "  feature[\"Ticker\"] = ticker\n",
    "  all_feature.append(feature)\n",
    "\n",
    "# concatenating all the dataframes into a single dataframe (TO BE REUSED OVER AND OVER)\n",
    "all_feature = pd.concat(all_feature)\n",
    "\n",
    "display(all_feature)\n"
   ]
  },
  {
   "cell_type": "code",
   "execution_count": null,
   "metadata": {},
   "outputs": [],
   "source": [
    "save_data(all_feature, \"data_snp500_movement_v2.csv\")"
   ]
  },
  {
   "cell_type": "code",
   "execution_count": null,
   "metadata": {
    "colab": {
     "base_uri": "https://localhost:8080/"
    },
    "id": "OWfDJdPLwfst",
    "outputId": "bf077aff-8cee-4e0e-efd5-cc7261e5c910"
   },
   "outputs": [],
   "source": [
    "len(all_feature)"
   ]
  },
  {
   "cell_type": "code",
   "execution_count": null,
   "metadata": {
    "colab": {
     "base_uri": "https://localhost:8080/"
    },
    "id": "exsIP4Xdts0t",
    "outputId": "e3c98def-421d-4a31-fcaf-b52e96a650a6"
   },
   "outputs": [],
   "source": [
    "all_feature[\"Ticker\"].nunique()"
   ]
  },
  {
   "cell_type": "markdown",
   "metadata": {
    "id": "5mMLuG-Ut556"
   },
   "source": [
    "## Assigning Label to each movement of every stock (labels range from 1-12)"
   ]
  },
  {
   "cell_type": "code",
   "execution_count": null,
   "metadata": {
    "colab": {
     "base_uri": "https://localhost:8080/",
     "height": 66,
     "referenced_widgets": [
      "0d149f0ef9f642fd8647ec26944b6ab9",
      "1ea613294f984833b4f7ee9d6e7c4830",
      "dcdd9a35191541afb6789e6f9e5498b6",
      "11b1c26d17024d7da3057b90e414de21",
      "7c65bd382a7b48c4957972aa6df5ff83",
      "d25b0ca796fe44eb9fd9da88d74f14ff",
      "9604981360a540718dddd661bdab9adb",
      "bcf33ab37e364311a278165da277e854",
      "945c6ebf057442baa1ec25afb34d63fd",
      "9200040e1a1a4ba9bb875cf72db3d0e6",
      "2abc905adf0a40a9806c72b506dfb4df"
     ]
    },
    "id": "Xa_7mvkUwfj6",
    "outputId": "467637de-b3d5-4a5a-9627-ede8ab41c150"
   },
   "outputs": [],
   "source": [
    "# Create a new dataframe with labels for each stock movement (there are in total 12 of these labels)\n",
    "temp_all, df = get_data_label()\n",
    "# Length of each stock sequence\n",
    "lens = get_length_of_tickers(temp_all)\n",
    "# storing the complete data in form of numpy array for easier operations\n",
    "full_array = get_array(temp_all)\n",
    "# Computing Siilarity Matrix between sequences of stocks\n",
    "scores, all_tickers = get_similarity_score(df, full_array, lens)"
   ]
  },
  {
   "cell_type": "code",
   "execution_count": null,
   "metadata": {
    "colab": {
     "base_uri": "https://localhost:8080/"
    },
    "id": "vvySxypH4Ucc",
    "outputId": "02092c82-4c92-43ec-a2a4-ab7d002e2909"
   },
   "outputs": [],
   "source": [
    "save_data(scores, 'all_data_snp500_similarity_score_train.npy') # similarity score between each pair of stocks\n",
    "save_data(all_tickers, \"all_data_snp500_similarity_tickers_v2.pickle\") # all tickers in order of there position in the similarity array "
   ]
  },
  {
   "cell_type": "markdown",
   "metadata": {
    "id": "Zw6uf6ervSFQ"
   },
   "source": [
    "# Clustering of Stocks based upon the identified sequence Labels"
   ]
  },
  {
   "cell_type": "code",
   "execution_count": null,
   "metadata": {
    "colab": {
     "base_uri": "https://localhost:8080/",
     "height": 658
    },
    "id": "gfspA9oDLPwh",
    "outputId": "231b051e-0d62-45a7-cedd-9e5070bb0a5e"
   },
   "outputs": [],
   "source": [
    "from scipy.cluster.hierarchy import linkage, dendrogram, fcluster\n",
    "\n",
    "similarity_matrix = load_data(\"all_data_snp500_similarity_score_train.npy\")\n",
    "distance_matrix = 1 - similarity_matrix\n",
    "linked = linkage(distance_matrix, 'ward')\n",
    "plt.figure(figsize=(10, 7))\n",
    "dendrogram = dendrogram(linked,\n",
    "                            orientation='top',\n",
    "                            labels=[f\"{i}\" for i in range(similarity_matrix.shape[0])],\n",
    "                            distance_sort='ascending',\n",
    "                            show_leaf_counts=True)\n",
    "\n",
    "plt.title('Dendrogram')\n",
    "plt.xlabel('Ticker index')\n",
    "plt.ylabel('Distance')\n",
    "plt.show()\n"
   ]
  },
  {
   "cell_type": "markdown",
   "metadata": {},
   "source": [
    "# Clustering Stocks into multiple buckets\n",
    "### Where stock in same bucket have minimal distance in terms of similarity"
   ]
  },
  {
   "cell_type": "code",
   "execution_count": null,
   "metadata": {
    "colab": {
     "base_uri": "https://localhost:8080/",
     "height": 441
    },
    "id": "bHhjEe_0LPr1",
    "outputId": "c8e9c47c-6945-4259-e029-a90763b2ee71"
   },
   "outputs": [],
   "source": [
    "\"\"\"\n",
    "Clustering Stocks into multiple buckets\n",
    "Where stock in same bucket have minimal distance in terms of similarity\n",
    "\"\"\"\n",
    "cutoff_distance = 2\n",
    "cluster_labels = fcluster(linked, cutoff_distance, criterion='distance')\n",
    "\n",
    "print(\"Unique Cluster labels:\", len(set(cluster_labels)))\n",
    "\n",
    "ticker_name = load_data(\"all_data_snp500_similarity_tickers_v2.pickle\")\n",
    "\n",
    "df_cluster_label = {\"Ticker\": [], \"Cluster\": []}\n",
    "for i in range(len(cluster_labels)):\n",
    "  df_cluster_label[\"Ticker\"].append(ticker_name[i])\n",
    "  df_cluster_label[\"Cluster\"].append(cluster_labels[i])\n",
    "\n",
    "df_cluster_label = pd.DataFrame.from_dict(df_cluster_label)\n",
    "display(df_cluster_label)\n",
    "save_data(df_cluster_label, \"stock_cluster_v2.csv\")"
   ]
  },
  {
   "cell_type": "markdown",
   "metadata": {},
   "source": [
    "## Begining the Evaluation Phase\n",
    "* Unlike the data used for clustering which was prior 1st Jan 2021, we will be evaluating on the next 6 months data from 1st Jan 2021"
   ]
  },
  {
   "cell_type": "code",
   "execution_count": null,
   "metadata": {
    "colab": {
     "base_uri": "https://localhost:8080/",
     "height": 66,
     "referenced_widgets": [
      "4247892d577e4c4480fef7bdcef8fc5b",
      "98332f31090c4d77963121036e21cdd4",
      "621bdcd907d04b6a9c8ba62abd52b305",
      "e57dd14432b243d69c3b841413faa1a5",
      "d015ca8065014f27926803f7b81752d3",
      "dceb8db6e5ee463c984fa5bf9993b71d",
      "45cd479ef5f745a6ac648fe71bd7d8c6",
      "1437fa6da91745cfa23d4472ae43c7be",
      "6dc6aa20f07e48e1abbf715b0c57cf73",
      "a0fddca6147040d5a9510458f1431dea",
      "cadee175c8f64f6ba0561a060c566b3e"
     ]
    },
    "id": "svruNwy0xgiL",
    "outputId": "36900870-a162-4ad5-8c92-c71bbb292f17"
   },
   "outputs": [],
   "source": [
    "# Create a new dataframe with labels for each stock movement (there are in total 12 of these labels)\n",
    "temp_all, df = get_data_label(lab_idx=label_index_eval, start_date=datetime(2015, 1, 1), end_date=datetime(2024, 12, 1))\n",
    "# Length of each stock sequence\n",
    "temp_all = temp_all.loc[(temp_all[\"current_date\"]>datetime(2021, 1, 1)) & (temp_all[\"current_date\"]<datetime(2021, 7, 1))]\n",
    "df = df.loc[(df[\"current_date\"]>datetime(2021, 1, 1)) & (df[\"current_date\"]<datetime(2021, 7, 1))]\n",
    "lens = get_length_of_tickers(temp_all)\n",
    "# storing the complete data in form of numpy array for easier operations\n",
    "full_array = get_array(temp_all)\n",
    "# Computing Siilarity Matrix between sequences of stocks\n",
    "scores, all_tickers = get_similarity_score(df, full_array, lens)"
   ]
  },
  {
   "cell_type": "code",
   "execution_count": null,
   "metadata": {
    "colab": {
     "base_uri": "https://localhost:8080/",
     "height": 424
    },
    "id": "Viuu6Bw-Fnqu",
    "outputId": "9c3b1425-a3d1-466b-b8d3-7a62939c4358"
   },
   "outputs": [],
   "source": [
    "# create a dataframe of similar stocks that are derived from historical data\n",
    "df_same_cluster_ticker = df_cluster_label.groupby(\"Cluster\")[\"Ticker\"].apply(list).reset_index()\n",
    "display(df_same_cluster_ticker)"
   ]
  },
  {
   "cell_type": "code",
   "execution_count": null,
   "metadata": {
    "colab": {
     "base_uri": "https://localhost:8080/",
     "height": 49,
     "referenced_widgets": [
      "aa82e426414c48edb8f3895e624e2264",
      "f4b792867a6a412baf9a62cd19263584",
      "cf48d93e715049bf8dd025a866e21a08",
      "b5d3d840cb0e4470999f0a86f7e8de89",
      "0c425f51adbf4dcc9232aa792123a32e",
      "10adf46fd64d487780bc359af0813ae0",
      "e0364a8de3094c3684d2dfc53f98f107",
      "04eb8c644a414ec88399bd8c180a5089",
      "32ce52fc53ee4540bc0e9272780ee575",
      "3e62db8e3bc8426fb1fc930a8650f3c9",
      "6a46ae722d4142f3b5112704fbbccb47"
     ]
    },
    "id": "qBCKNi3vFQPg",
    "outputId": "f653eb79-73df-4626-8f6e-5fee42886eaa"
   },
   "outputs": [],
   "source": [
    "matching_percentage = []\n",
    "\n",
    "# iterate over all tickers\n",
    "for idx, row in tqdm(enumerate(df_same_cluster_ticker.itertuples())):\n",
    "  tickers = row.Ticker\n",
    "\n",
    "  # if certain cluster has one element we will return here one\n",
    "  if len(tickers)==1:\n",
    "    matching_percentage.append(1)\n",
    "    continue\n",
    "\n",
    "  temp = temp_all.loc[temp_all[\"Ticker\"].isin(tickers)]\n",
    "  temp = get_array(temp)\n",
    "    \n",
    "  # computing the similarity of one sequence against rest and then taking their mean\n",
    "  # This serves as our assesment quality of each cluster\n",
    "  similarity = np.zeros((len(tickers), len(tickers)))\n",
    "  for i in range(0, temp.shape[0], lens):\n",
    "    base = temp[i:i+lens]\n",
    "    for j in range(0, temp.shape[0], lens):\n",
    "      target = temp[j:j+lens]\n",
    "      matches, total = 0, 0\n",
    "      for k, l in zip(base, target):\n",
    "        if k<0 or l<0:\n",
    "          continue\n",
    "        if k==l:\n",
    "          matches += 1\n",
    "        total += 1\n",
    "      similarity[i//lens,j//lens] = matches/(total+1)\n",
    "  # print(similarity)\n",
    "  val = sum_except_diagonal(similarity)\n",
    "  norm = len(tickers)**2 - len(tickers)\n",
    "  matching_percentage.append(val/norm)\n"
   ]
  },
  {
   "cell_type": "code",
   "execution_count": null,
   "metadata": {
    "colab": {
     "base_uri": "https://localhost:8080/",
     "height": 424
    },
    "id": "HojIt--Eb64K",
    "outputId": "a8f4bf36-f0c8-44c1-ca66-8b465a47f6ea"
   },
   "outputs": [],
   "source": [
    "df_same_cluster_ticker[\"Average Percentage Match\"] =  matching_percentage\n",
    "df_same_cluster_ticker[\"len\"] =  df_same_cluster_ticker[\"Ticker\"].apply(lambda x: len(x))\n",
    "display(df_same_cluster_ticker)"
   ]
  },
  {
   "cell_type": "code",
   "execution_count": null,
   "metadata": {
    "id": "3-BcpzPpkjHf"
   },
   "outputs": [],
   "source": [
    "df_same_cluster_ticker[\"weighted match\"] =  df_same_cluster_ticker[\"Average Percentage Match\"] *  df_same_cluster_ticker[\"len\"]"
   ]
  },
  {
   "cell_type": "code",
   "execution_count": null,
   "metadata": {
    "colab": {
     "base_uri": "https://localhost:8080/"
    },
    "id": "ZaYTOTCxca4E",
    "outputId": "b26ab0b3-bd89-4543-fad0-038e26ea623b"
   },
   "outputs": [],
   "source": [
    "print(\"Average Percentage Match in Test Period: \", df_same_cluster_ticker[\"Average Percentage Match\"].mean())\n",
    "print(\"Weighted Average Percentage Match in Test Period: \", df_same_cluster_ticker[\"weighted match\"].sum()/df_same_cluster_ticker[\"len\"].sum())"
   ]
  },
  {
   "cell_type": "code",
   "execution_count": null,
   "metadata": {
    "colab": {
     "base_uri": "https://localhost:8080/",
     "height": 1000
    },
    "id": "i1KWARl74yAq",
    "outputId": "45eb37d8-0c97-4935-db9e-3cb63bee8eeb"
   },
   "outputs": [],
   "source": [
    "data_handler = DataHandler()\n",
    "snp = data_handler.get_snp()\n",
    "snp_industry = snp.set_index(\"Symbol\")[\"GICS Sub-Industry\"].to_dict()\n",
    "temp = (df_same_cluster_ticker.loc[df_same_cluster_ticker[\"len\"]>1].sort_values(by=[\"Average Percentage Match\"], ascending=False)[[\"Cluster\",\t\"Ticker\",\t\"Average Percentage Match\",\t\"len\"]])\n",
    "industry_counter = []\n",
    "for row in temp.itertuples():\n",
    "  tickers = row.Ticker\n",
    "  counter = {}\n",
    "  for item in tickers:\n",
    "    counter[snp_industry[item]] = counter.get(snp_industry[item], 0) + 1\n",
    "  industry_counter.append(counter)\n",
    "temp[\"Sub-Industry Counter\"] = industry_counter\n",
    "temp[\"Different Sub-Industries\"] = temp[\"Sub-Industry Counter\"].apply(lambda x: len(x))"
   ]
  },
  {
   "cell_type": "code",
   "execution_count": null,
   "metadata": {
    "id": "iQVdvM1q4x9I"
   },
   "outputs": [],
   "source": [
    "save_data(temp, 'clustered_stocks_final.csv')"
   ]
  },
  {
   "cell_type": "code",
   "execution_count": null,
   "metadata": {
    "colab": {
     "base_uri": "https://localhost:8080/",
     "height": 1000
    },
    "id": "pshbQf7y8fj5",
    "outputId": "3a30900d-d215-41b4-c156-4c97329077d6"
   },
   "outputs": [],
   "source": [
    "# Plotting Sample \n",
    "for i, row in enumerate(temp.itertuples()):\n",
    "  cluster_ticker = row.Ticker\n",
    "  tt = df.loc[df[\"Ticker\"].isin(cluster_ticker)]\n",
    "  fig = px.line(tt, x='current_date', y='price_diff', color='Ticker', title='Rate Of Change')\n",
    "  fig.show()\n",
    "\n",
    "  if i==9:\n",
    "    break"
   ]
  },
  {
   "cell_type": "code",
   "execution_count": null,
   "metadata": {
    "id": "zNGHNzEhcos_"
   },
   "outputs": [],
   "source": []
  },
  {
   "cell_type": "code",
   "execution_count": null,
   "metadata": {
    "id": "IVaUV_nNcoo4"
   },
   "outputs": [],
   "source": []
  },
  {
   "cell_type": "code",
   "execution_count": null,
   "metadata": {
    "id": "McI2stNRcoje"
   },
   "outputs": [],
   "source": []
  },
  {
   "cell_type": "code",
   "execution_count": null,
   "metadata": {
    "id": "4SuGg1Edcoa7"
   },
   "outputs": [],
   "source": []
  },
  {
   "cell_type": "code",
   "execution_count": null,
   "metadata": {
    "id": "3aKb-FWcMLwm"
   },
   "outputs": [],
   "source": []
  }
 ],
 "metadata": {
  "accelerator": "GPU",
  "colab": {
   "gpuType": "T4",
   "provenance": []
  },
  "kernelspec": {
   "display_name": "stocks",
   "language": "python",
   "name": "python3"
  },
  "language_info": {
   "codemirror_mode": {
    "name": "ipython",
    "version": 3
   },
   "file_extension": ".py",
   "mimetype": "text/x-python",
   "name": "python",
   "nbconvert_exporter": "python",
   "pygments_lexer": "ipython3",
   "version": "3.10.14"
  },
  "widgets": {
   "application/vnd.jupyter.widget-state+json": {
    "04eb8c644a414ec88399bd8c180a5089": {
     "model_module": "@jupyter-widgets/base",
     "model_module_version": "1.2.0",
     "model_name": "LayoutModel",
     "state": {
      "_model_module": "@jupyter-widgets/base",
      "_model_module_version": "1.2.0",
      "_model_name": "LayoutModel",
      "_view_count": null,
      "_view_module": "@jupyter-widgets/base",
      "_view_module_version": "1.2.0",
      "_view_name": "LayoutView",
      "align_content": null,
      "align_items": null,
      "align_self": null,
      "border": null,
      "bottom": null,
      "display": null,
      "flex": null,
      "flex_flow": null,
      "grid_area": null,
      "grid_auto_columns": null,
      "grid_auto_flow": null,
      "grid_auto_rows": null,
      "grid_column": null,
      "grid_gap": null,
      "grid_row": null,
      "grid_template_areas": null,
      "grid_template_columns": null,
      "grid_template_rows": null,
      "height": null,
      "justify_content": null,
      "justify_items": null,
      "left": null,
      "margin": null,
      "max_height": null,
      "max_width": null,
      "min_height": null,
      "min_width": null,
      "object_fit": null,
      "object_position": null,
      "order": null,
      "overflow": null,
      "overflow_x": null,
      "overflow_y": null,
      "padding": null,
      "right": null,
      "top": null,
      "visibility": null,
      "width": "20px"
     }
    },
    "0c425f51adbf4dcc9232aa792123a32e": {
     "model_module": "@jupyter-widgets/base",
     "model_module_version": "1.2.0",
     "model_name": "LayoutModel",
     "state": {
      "_model_module": "@jupyter-widgets/base",
      "_model_module_version": "1.2.0",
      "_model_name": "LayoutModel",
      "_view_count": null,
      "_view_module": "@jupyter-widgets/base",
      "_view_module_version": "1.2.0",
      "_view_name": "LayoutView",
      "align_content": null,
      "align_items": null,
      "align_self": null,
      "border": null,
      "bottom": null,
      "display": null,
      "flex": null,
      "flex_flow": null,
      "grid_area": null,
      "grid_auto_columns": null,
      "grid_auto_flow": null,
      "grid_auto_rows": null,
      "grid_column": null,
      "grid_gap": null,
      "grid_row": null,
      "grid_template_areas": null,
      "grid_template_columns": null,
      "grid_template_rows": null,
      "height": null,
      "justify_content": null,
      "justify_items": null,
      "left": null,
      "margin": null,
      "max_height": null,
      "max_width": null,
      "min_height": null,
      "min_width": null,
      "object_fit": null,
      "object_position": null,
      "order": null,
      "overflow": null,
      "overflow_x": null,
      "overflow_y": null,
      "padding": null,
      "right": null,
      "top": null,
      "visibility": null,
      "width": null
     }
    },
    "0d149f0ef9f642fd8647ec26944b6ab9": {
     "model_module": "@jupyter-widgets/controls",
     "model_module_version": "1.5.0",
     "model_name": "HBoxModel",
     "state": {
      "_dom_classes": [],
      "_model_module": "@jupyter-widgets/controls",
      "_model_module_version": "1.5.0",
      "_model_name": "HBoxModel",
      "_view_count": null,
      "_view_module": "@jupyter-widgets/controls",
      "_view_module_version": "1.5.0",
      "_view_name": "HBoxView",
      "box_style": "",
      "children": [
       "IPY_MODEL_1ea613294f984833b4f7ee9d6e7c4830",
       "IPY_MODEL_dcdd9a35191541afb6789e6f9e5498b6",
       "IPY_MODEL_11b1c26d17024d7da3057b90e414de21"
      ],
      "layout": "IPY_MODEL_7c65bd382a7b48c4957972aa6df5ff83"
     }
    },
    "10adf46fd64d487780bc359af0813ae0": {
     "model_module": "@jupyter-widgets/base",
     "model_module_version": "1.2.0",
     "model_name": "LayoutModel",
     "state": {
      "_model_module": "@jupyter-widgets/base",
      "_model_module_version": "1.2.0",
      "_model_name": "LayoutModel",
      "_view_count": null,
      "_view_module": "@jupyter-widgets/base",
      "_view_module_version": "1.2.0",
      "_view_name": "LayoutView",
      "align_content": null,
      "align_items": null,
      "align_self": null,
      "border": null,
      "bottom": null,
      "display": null,
      "flex": null,
      "flex_flow": null,
      "grid_area": null,
      "grid_auto_columns": null,
      "grid_auto_flow": null,
      "grid_auto_rows": null,
      "grid_column": null,
      "grid_gap": null,
      "grid_row": null,
      "grid_template_areas": null,
      "grid_template_columns": null,
      "grid_template_rows": null,
      "height": null,
      "justify_content": null,
      "justify_items": null,
      "left": null,
      "margin": null,
      "max_height": null,
      "max_width": null,
      "min_height": null,
      "min_width": null,
      "object_fit": null,
      "object_position": null,
      "order": null,
      "overflow": null,
      "overflow_x": null,
      "overflow_y": null,
      "padding": null,
      "right": null,
      "top": null,
      "visibility": null,
      "width": null
     }
    },
    "11b1c26d17024d7da3057b90e414de21": {
     "model_module": "@jupyter-widgets/controls",
     "model_module_version": "1.5.0",
     "model_name": "HTMLModel",
     "state": {
      "_dom_classes": [],
      "_model_module": "@jupyter-widgets/controls",
      "_model_module_version": "1.5.0",
      "_model_name": "HTMLModel",
      "_view_count": null,
      "_view_module": "@jupyter-widgets/controls",
      "_view_module_version": "1.5.0",
      "_view_name": "HTMLView",
      "description": "",
      "description_tooltip": null,
      "layout": "IPY_MODEL_9200040e1a1a4ba9bb875cf72db3d0e6",
      "placeholder": "​",
      "style": "IPY_MODEL_2abc905adf0a40a9806c72b506dfb4df",
      "value": " 498/? [00:35&lt;00:00, 15.50it/s]"
     }
    },
    "1437fa6da91745cfa23d4472ae43c7be": {
     "model_module": "@jupyter-widgets/base",
     "model_module_version": "1.2.0",
     "model_name": "LayoutModel",
     "state": {
      "_model_module": "@jupyter-widgets/base",
      "_model_module_version": "1.2.0",
      "_model_name": "LayoutModel",
      "_view_count": null,
      "_view_module": "@jupyter-widgets/base",
      "_view_module_version": "1.2.0",
      "_view_name": "LayoutView",
      "align_content": null,
      "align_items": null,
      "align_self": null,
      "border": null,
      "bottom": null,
      "display": null,
      "flex": null,
      "flex_flow": null,
      "grid_area": null,
      "grid_auto_columns": null,
      "grid_auto_flow": null,
      "grid_auto_rows": null,
      "grid_column": null,
      "grid_gap": null,
      "grid_row": null,
      "grid_template_areas": null,
      "grid_template_columns": null,
      "grid_template_rows": null,
      "height": null,
      "justify_content": null,
      "justify_items": null,
      "left": null,
      "margin": null,
      "max_height": null,
      "max_width": null,
      "min_height": null,
      "min_width": null,
      "object_fit": null,
      "object_position": null,
      "order": null,
      "overflow": null,
      "overflow_x": null,
      "overflow_y": null,
      "padding": null,
      "right": null,
      "top": null,
      "visibility": null,
      "width": "20px"
     }
    },
    "14819bb86f594bb48b40c569d8302ff4": {
     "model_module": "@jupyter-widgets/base",
     "model_module_version": "1.2.0",
     "model_name": "LayoutModel",
     "state": {
      "_model_module": "@jupyter-widgets/base",
      "_model_module_version": "1.2.0",
      "_model_name": "LayoutModel",
      "_view_count": null,
      "_view_module": "@jupyter-widgets/base",
      "_view_module_version": "1.2.0",
      "_view_name": "LayoutView",
      "align_content": null,
      "align_items": null,
      "align_self": null,
      "border": null,
      "bottom": null,
      "display": null,
      "flex": null,
      "flex_flow": null,
      "grid_area": null,
      "grid_auto_columns": null,
      "grid_auto_flow": null,
      "grid_auto_rows": null,
      "grid_column": null,
      "grid_gap": null,
      "grid_row": null,
      "grid_template_areas": null,
      "grid_template_columns": null,
      "grid_template_rows": null,
      "height": null,
      "justify_content": null,
      "justify_items": null,
      "left": null,
      "margin": null,
      "max_height": null,
      "max_width": null,
      "min_height": null,
      "min_width": null,
      "object_fit": null,
      "object_position": null,
      "order": null,
      "overflow": null,
      "overflow_x": null,
      "overflow_y": null,
      "padding": null,
      "right": null,
      "top": null,
      "visibility": null,
      "width": null
     }
    },
    "16f7116cf97e4499a15fc1bac1ce1311": {
     "model_module": "@jupyter-widgets/base",
     "model_module_version": "1.2.0",
     "model_name": "LayoutModel",
     "state": {
      "_model_module": "@jupyter-widgets/base",
      "_model_module_version": "1.2.0",
      "_model_name": "LayoutModel",
      "_view_count": null,
      "_view_module": "@jupyter-widgets/base",
      "_view_module_version": "1.2.0",
      "_view_name": "LayoutView",
      "align_content": null,
      "align_items": null,
      "align_self": null,
      "border": null,
      "bottom": null,
      "display": null,
      "flex": null,
      "flex_flow": null,
      "grid_area": null,
      "grid_auto_columns": null,
      "grid_auto_flow": null,
      "grid_auto_rows": null,
      "grid_column": null,
      "grid_gap": null,
      "grid_row": null,
      "grid_template_areas": null,
      "grid_template_columns": null,
      "grid_template_rows": null,
      "height": null,
      "justify_content": null,
      "justify_items": null,
      "left": null,
      "margin": null,
      "max_height": null,
      "max_width": null,
      "min_height": null,
      "min_width": null,
      "object_fit": null,
      "object_position": null,
      "order": null,
      "overflow": null,
      "overflow_x": null,
      "overflow_y": null,
      "padding": null,
      "right": null,
      "top": null,
      "visibility": null,
      "width": null
     }
    },
    "1c815be6410b4d2d9479fa027b3fbe8a": {
     "model_module": "@jupyter-widgets/base",
     "model_module_version": "1.2.0",
     "model_name": "LayoutModel",
     "state": {
      "_model_module": "@jupyter-widgets/base",
      "_model_module_version": "1.2.0",
      "_model_name": "LayoutModel",
      "_view_count": null,
      "_view_module": "@jupyter-widgets/base",
      "_view_module_version": "1.2.0",
      "_view_name": "LayoutView",
      "align_content": null,
      "align_items": null,
      "align_self": null,
      "border": null,
      "bottom": null,
      "display": null,
      "flex": null,
      "flex_flow": null,
      "grid_area": null,
      "grid_auto_columns": null,
      "grid_auto_flow": null,
      "grid_auto_rows": null,
      "grid_column": null,
      "grid_gap": null,
      "grid_row": null,
      "grid_template_areas": null,
      "grid_template_columns": null,
      "grid_template_rows": null,
      "height": null,
      "justify_content": null,
      "justify_items": null,
      "left": null,
      "margin": null,
      "max_height": null,
      "max_width": null,
      "min_height": null,
      "min_width": null,
      "object_fit": null,
      "object_position": null,
      "order": null,
      "overflow": null,
      "overflow_x": null,
      "overflow_y": null,
      "padding": null,
      "right": null,
      "top": null,
      "visibility": null,
      "width": null
     }
    },
    "1ea613294f984833b4f7ee9d6e7c4830": {
     "model_module": "@jupyter-widgets/controls",
     "model_module_version": "1.5.0",
     "model_name": "HTMLModel",
     "state": {
      "_dom_classes": [],
      "_model_module": "@jupyter-widgets/controls",
      "_model_module_version": "1.5.0",
      "_model_name": "HTMLModel",
      "_view_count": null,
      "_view_module": "@jupyter-widgets/controls",
      "_view_module_version": "1.5.0",
      "_view_name": "HTMLView",
      "description": "",
      "description_tooltip": null,
      "layout": "IPY_MODEL_d25b0ca796fe44eb9fd9da88d74f14ff",
      "placeholder": "​",
      "style": "IPY_MODEL_9604981360a540718dddd661bdab9adb",
      "value": ""
     }
    },
    "1feb6652cf6246b5af79bcaef4200557": {
     "model_module": "@jupyter-widgets/base",
     "model_module_version": "1.2.0",
     "model_name": "LayoutModel",
     "state": {
      "_model_module": "@jupyter-widgets/base",
      "_model_module_version": "1.2.0",
      "_model_name": "LayoutModel",
      "_view_count": null,
      "_view_module": "@jupyter-widgets/base",
      "_view_module_version": "1.2.0",
      "_view_name": "LayoutView",
      "align_content": null,
      "align_items": null,
      "align_self": null,
      "border": null,
      "bottom": null,
      "display": null,
      "flex": null,
      "flex_flow": null,
      "grid_area": null,
      "grid_auto_columns": null,
      "grid_auto_flow": null,
      "grid_auto_rows": null,
      "grid_column": null,
      "grid_gap": null,
      "grid_row": null,
      "grid_template_areas": null,
      "grid_template_columns": null,
      "grid_template_rows": null,
      "height": null,
      "justify_content": null,
      "justify_items": null,
      "left": null,
      "margin": null,
      "max_height": null,
      "max_width": null,
      "min_height": null,
      "min_width": null,
      "object_fit": null,
      "object_position": null,
      "order": null,
      "overflow": null,
      "overflow_x": null,
      "overflow_y": null,
      "padding": null,
      "right": null,
      "top": null,
      "visibility": null,
      "width": null
     }
    },
    "2abc905adf0a40a9806c72b506dfb4df": {
     "model_module": "@jupyter-widgets/controls",
     "model_module_version": "1.5.0",
     "model_name": "DescriptionStyleModel",
     "state": {
      "_model_module": "@jupyter-widgets/controls",
      "_model_module_version": "1.5.0",
      "_model_name": "DescriptionStyleModel",
      "_view_count": null,
      "_view_module": "@jupyter-widgets/base",
      "_view_module_version": "1.2.0",
      "_view_name": "StyleView",
      "description_width": ""
     }
    },
    "32ce52fc53ee4540bc0e9272780ee575": {
     "model_module": "@jupyter-widgets/controls",
     "model_module_version": "1.5.0",
     "model_name": "ProgressStyleModel",
     "state": {
      "_model_module": "@jupyter-widgets/controls",
      "_model_module_version": "1.5.0",
      "_model_name": "ProgressStyleModel",
      "_view_count": null,
      "_view_module": "@jupyter-widgets/base",
      "_view_module_version": "1.2.0",
      "_view_name": "StyleView",
      "bar_color": null,
      "description_width": ""
     }
    },
    "3e62db8e3bc8426fb1fc930a8650f3c9": {
     "model_module": "@jupyter-widgets/base",
     "model_module_version": "1.2.0",
     "model_name": "LayoutModel",
     "state": {
      "_model_module": "@jupyter-widgets/base",
      "_model_module_version": "1.2.0",
      "_model_name": "LayoutModel",
      "_view_count": null,
      "_view_module": "@jupyter-widgets/base",
      "_view_module_version": "1.2.0",
      "_view_name": "LayoutView",
      "align_content": null,
      "align_items": null,
      "align_self": null,
      "border": null,
      "bottom": null,
      "display": null,
      "flex": null,
      "flex_flow": null,
      "grid_area": null,
      "grid_auto_columns": null,
      "grid_auto_flow": null,
      "grid_auto_rows": null,
      "grid_column": null,
      "grid_gap": null,
      "grid_row": null,
      "grid_template_areas": null,
      "grid_template_columns": null,
      "grid_template_rows": null,
      "height": null,
      "justify_content": null,
      "justify_items": null,
      "left": null,
      "margin": null,
      "max_height": null,
      "max_width": null,
      "min_height": null,
      "min_width": null,
      "object_fit": null,
      "object_position": null,
      "order": null,
      "overflow": null,
      "overflow_x": null,
      "overflow_y": null,
      "padding": null,
      "right": null,
      "top": null,
      "visibility": null,
      "width": null
     }
    },
    "4247892d577e4c4480fef7bdcef8fc5b": {
     "model_module": "@jupyter-widgets/controls",
     "model_module_version": "1.5.0",
     "model_name": "HBoxModel",
     "state": {
      "_dom_classes": [],
      "_model_module": "@jupyter-widgets/controls",
      "_model_module_version": "1.5.0",
      "_model_name": "HBoxModel",
      "_view_count": null,
      "_view_module": "@jupyter-widgets/controls",
      "_view_module_version": "1.5.0",
      "_view_name": "HBoxView",
      "box_style": "",
      "children": [
       "IPY_MODEL_98332f31090c4d77963121036e21cdd4",
       "IPY_MODEL_621bdcd907d04b6a9c8ba62abd52b305",
       "IPY_MODEL_e57dd14432b243d69c3b841413faa1a5"
      ],
      "layout": "IPY_MODEL_d015ca8065014f27926803f7b81752d3"
     }
    },
    "45cd479ef5f745a6ac648fe71bd7d8c6": {
     "model_module": "@jupyter-widgets/controls",
     "model_module_version": "1.5.0",
     "model_name": "DescriptionStyleModel",
     "state": {
      "_model_module": "@jupyter-widgets/controls",
      "_model_module_version": "1.5.0",
      "_model_name": "DescriptionStyleModel",
      "_view_count": null,
      "_view_module": "@jupyter-widgets/base",
      "_view_module_version": "1.2.0",
      "_view_name": "StyleView",
      "description_width": ""
     }
    },
    "5ec216141ecf426fa7f09b9f69a27dee": {
     "model_module": "@jupyter-widgets/controls",
     "model_module_version": "1.5.0",
     "model_name": "DescriptionStyleModel",
     "state": {
      "_model_module": "@jupyter-widgets/controls",
      "_model_module_version": "1.5.0",
      "_model_name": "DescriptionStyleModel",
      "_view_count": null,
      "_view_module": "@jupyter-widgets/base",
      "_view_module_version": "1.2.0",
      "_view_name": "StyleView",
      "description_width": ""
     }
    },
    "608308cda7fa42cdb46dc519b29e20fc": {
     "model_module": "@jupyter-widgets/controls",
     "model_module_version": "1.5.0",
     "model_name": "HBoxModel",
     "state": {
      "_dom_classes": [],
      "_model_module": "@jupyter-widgets/controls",
      "_model_module_version": "1.5.0",
      "_model_name": "HBoxModel",
      "_view_count": null,
      "_view_module": "@jupyter-widgets/controls",
      "_view_module_version": "1.5.0",
      "_view_name": "HBoxView",
      "box_style": "",
      "children": [
       "IPY_MODEL_c0ba67b373e2464f8c84d5d05f150807",
       "IPY_MODEL_bf48e52414644136947233e1a5ca9af7",
       "IPY_MODEL_b11b2b5d8a0044e0b730431e668d4848"
      ],
      "layout": "IPY_MODEL_1feb6652cf6246b5af79bcaef4200557"
     }
    },
    "621bdcd907d04b6a9c8ba62abd52b305": {
     "model_module": "@jupyter-widgets/controls",
     "model_module_version": "1.5.0",
     "model_name": "FloatProgressModel",
     "state": {
      "_dom_classes": [],
      "_model_module": "@jupyter-widgets/controls",
      "_model_module_version": "1.5.0",
      "_model_name": "FloatProgressModel",
      "_view_count": null,
      "_view_module": "@jupyter-widgets/controls",
      "_view_module_version": "1.5.0",
      "_view_name": "ProgressView",
      "bar_style": "success",
      "description": "",
      "description_tooltip": null,
      "layout": "IPY_MODEL_1437fa6da91745cfa23d4472ae43c7be",
      "max": 1,
      "min": 0,
      "orientation": "horizontal",
      "style": "IPY_MODEL_6dc6aa20f07e48e1abbf715b0c57cf73",
      "value": 1
     }
    },
    "6a46ae722d4142f3b5112704fbbccb47": {
     "model_module": "@jupyter-widgets/controls",
     "model_module_version": "1.5.0",
     "model_name": "DescriptionStyleModel",
     "state": {
      "_model_module": "@jupyter-widgets/controls",
      "_model_module_version": "1.5.0",
      "_model_name": "DescriptionStyleModel",
      "_view_count": null,
      "_view_module": "@jupyter-widgets/base",
      "_view_module_version": "1.2.0",
      "_view_name": "StyleView",
      "description_width": ""
     }
    },
    "6dc6aa20f07e48e1abbf715b0c57cf73": {
     "model_module": "@jupyter-widgets/controls",
     "model_module_version": "1.5.0",
     "model_name": "ProgressStyleModel",
     "state": {
      "_model_module": "@jupyter-widgets/controls",
      "_model_module_version": "1.5.0",
      "_model_name": "ProgressStyleModel",
      "_view_count": null,
      "_view_module": "@jupyter-widgets/base",
      "_view_module_version": "1.2.0",
      "_view_name": "StyleView",
      "bar_color": null,
      "description_width": ""
     }
    },
    "7c65bd382a7b48c4957972aa6df5ff83": {
     "model_module": "@jupyter-widgets/base",
     "model_module_version": "1.2.0",
     "model_name": "LayoutModel",
     "state": {
      "_model_module": "@jupyter-widgets/base",
      "_model_module_version": "1.2.0",
      "_model_name": "LayoutModel",
      "_view_count": null,
      "_view_module": "@jupyter-widgets/base",
      "_view_module_version": "1.2.0",
      "_view_name": "LayoutView",
      "align_content": null,
      "align_items": null,
      "align_self": null,
      "border": null,
      "bottom": null,
      "display": null,
      "flex": null,
      "flex_flow": null,
      "grid_area": null,
      "grid_auto_columns": null,
      "grid_auto_flow": null,
      "grid_auto_rows": null,
      "grid_column": null,
      "grid_gap": null,
      "grid_row": null,
      "grid_template_areas": null,
      "grid_template_columns": null,
      "grid_template_rows": null,
      "height": null,
      "justify_content": null,
      "justify_items": null,
      "left": null,
      "margin": null,
      "max_height": null,
      "max_width": null,
      "min_height": null,
      "min_width": null,
      "object_fit": null,
      "object_position": null,
      "order": null,
      "overflow": null,
      "overflow_x": null,
      "overflow_y": null,
      "padding": null,
      "right": null,
      "top": null,
      "visibility": null,
      "width": null
     }
    },
    "7d4fca7e63c343ccbacd7d056b08e98e": {
     "model_module": "@jupyter-widgets/controls",
     "model_module_version": "1.5.0",
     "model_name": "ProgressStyleModel",
     "state": {
      "_model_module": "@jupyter-widgets/controls",
      "_model_module_version": "1.5.0",
      "_model_name": "ProgressStyleModel",
      "_view_count": null,
      "_view_module": "@jupyter-widgets/base",
      "_view_module_version": "1.2.0",
      "_view_name": "StyleView",
      "bar_color": null,
      "description_width": ""
     }
    },
    "9200040e1a1a4ba9bb875cf72db3d0e6": {
     "model_module": "@jupyter-widgets/base",
     "model_module_version": "1.2.0",
     "model_name": "LayoutModel",
     "state": {
      "_model_module": "@jupyter-widgets/base",
      "_model_module_version": "1.2.0",
      "_model_name": "LayoutModel",
      "_view_count": null,
      "_view_module": "@jupyter-widgets/base",
      "_view_module_version": "1.2.0",
      "_view_name": "LayoutView",
      "align_content": null,
      "align_items": null,
      "align_self": null,
      "border": null,
      "bottom": null,
      "display": null,
      "flex": null,
      "flex_flow": null,
      "grid_area": null,
      "grid_auto_columns": null,
      "grid_auto_flow": null,
      "grid_auto_rows": null,
      "grid_column": null,
      "grid_gap": null,
      "grid_row": null,
      "grid_template_areas": null,
      "grid_template_columns": null,
      "grid_template_rows": null,
      "height": null,
      "justify_content": null,
      "justify_items": null,
      "left": null,
      "margin": null,
      "max_height": null,
      "max_width": null,
      "min_height": null,
      "min_width": null,
      "object_fit": null,
      "object_position": null,
      "order": null,
      "overflow": null,
      "overflow_x": null,
      "overflow_y": null,
      "padding": null,
      "right": null,
      "top": null,
      "visibility": null,
      "width": null
     }
    },
    "945c6ebf057442baa1ec25afb34d63fd": {
     "model_module": "@jupyter-widgets/controls",
     "model_module_version": "1.5.0",
     "model_name": "ProgressStyleModel",
     "state": {
      "_model_module": "@jupyter-widgets/controls",
      "_model_module_version": "1.5.0",
      "_model_name": "ProgressStyleModel",
      "_view_count": null,
      "_view_module": "@jupyter-widgets/base",
      "_view_module_version": "1.2.0",
      "_view_name": "StyleView",
      "bar_color": null,
      "description_width": ""
     }
    },
    "9604981360a540718dddd661bdab9adb": {
     "model_module": "@jupyter-widgets/controls",
     "model_module_version": "1.5.0",
     "model_name": "DescriptionStyleModel",
     "state": {
      "_model_module": "@jupyter-widgets/controls",
      "_model_module_version": "1.5.0",
      "_model_name": "DescriptionStyleModel",
      "_view_count": null,
      "_view_module": "@jupyter-widgets/base",
      "_view_module_version": "1.2.0",
      "_view_name": "StyleView",
      "description_width": ""
     }
    },
    "98332f31090c4d77963121036e21cdd4": {
     "model_module": "@jupyter-widgets/controls",
     "model_module_version": "1.5.0",
     "model_name": "HTMLModel",
     "state": {
      "_dom_classes": [],
      "_model_module": "@jupyter-widgets/controls",
      "_model_module_version": "1.5.0",
      "_model_name": "HTMLModel",
      "_view_count": null,
      "_view_module": "@jupyter-widgets/controls",
      "_view_module_version": "1.5.0",
      "_view_name": "HTMLView",
      "description": "",
      "description_tooltip": null,
      "layout": "IPY_MODEL_dceb8db6e5ee463c984fa5bf9993b71d",
      "placeholder": "​",
      "style": "IPY_MODEL_45cd479ef5f745a6ac648fe71bd7d8c6",
      "value": ""
     }
    },
    "a0fddca6147040d5a9510458f1431dea": {
     "model_module": "@jupyter-widgets/base",
     "model_module_version": "1.2.0",
     "model_name": "LayoutModel",
     "state": {
      "_model_module": "@jupyter-widgets/base",
      "_model_module_version": "1.2.0",
      "_model_name": "LayoutModel",
      "_view_count": null,
      "_view_module": "@jupyter-widgets/base",
      "_view_module_version": "1.2.0",
      "_view_name": "LayoutView",
      "align_content": null,
      "align_items": null,
      "align_self": null,
      "border": null,
      "bottom": null,
      "display": null,
      "flex": null,
      "flex_flow": null,
      "grid_area": null,
      "grid_auto_columns": null,
      "grid_auto_flow": null,
      "grid_auto_rows": null,
      "grid_column": null,
      "grid_gap": null,
      "grid_row": null,
      "grid_template_areas": null,
      "grid_template_columns": null,
      "grid_template_rows": null,
      "height": null,
      "justify_content": null,
      "justify_items": null,
      "left": null,
      "margin": null,
      "max_height": null,
      "max_width": null,
      "min_height": null,
      "min_width": null,
      "object_fit": null,
      "object_position": null,
      "order": null,
      "overflow": null,
      "overflow_x": null,
      "overflow_y": null,
      "padding": null,
      "right": null,
      "top": null,
      "visibility": null,
      "width": null
     }
    },
    "aa3221c514f143ac8f01232f7c00dc6d": {
     "model_module": "@jupyter-widgets/controls",
     "model_module_version": "1.5.0",
     "model_name": "DescriptionStyleModel",
     "state": {
      "_model_module": "@jupyter-widgets/controls",
      "_model_module_version": "1.5.0",
      "_model_name": "DescriptionStyleModel",
      "_view_count": null,
      "_view_module": "@jupyter-widgets/base",
      "_view_module_version": "1.2.0",
      "_view_name": "StyleView",
      "description_width": ""
     }
    },
    "aa82e426414c48edb8f3895e624e2264": {
     "model_module": "@jupyter-widgets/controls",
     "model_module_version": "1.5.0",
     "model_name": "HBoxModel",
     "state": {
      "_dom_classes": [],
      "_model_module": "@jupyter-widgets/controls",
      "_model_module_version": "1.5.0",
      "_model_name": "HBoxModel",
      "_view_count": null,
      "_view_module": "@jupyter-widgets/controls",
      "_view_module_version": "1.5.0",
      "_view_name": "HBoxView",
      "box_style": "",
      "children": [
       "IPY_MODEL_f4b792867a6a412baf9a62cd19263584",
       "IPY_MODEL_cf48d93e715049bf8dd025a866e21a08",
       "IPY_MODEL_b5d3d840cb0e4470999f0a86f7e8de89"
      ],
      "layout": "IPY_MODEL_0c425f51adbf4dcc9232aa792123a32e"
     }
    },
    "b11b2b5d8a0044e0b730431e668d4848": {
     "model_module": "@jupyter-widgets/controls",
     "model_module_version": "1.5.0",
     "model_name": "HTMLModel",
     "state": {
      "_dom_classes": [],
      "_model_module": "@jupyter-widgets/controls",
      "_model_module_version": "1.5.0",
      "_model_name": "HTMLModel",
      "_view_count": null,
      "_view_module": "@jupyter-widgets/controls",
      "_view_module_version": "1.5.0",
      "_view_name": "HTMLView",
      "description": "",
      "description_tooltip": null,
      "layout": "IPY_MODEL_14819bb86f594bb48b40c569d8302ff4",
      "placeholder": "​",
      "style": "IPY_MODEL_aa3221c514f143ac8f01232f7c00dc6d",
      "value": " 500/500 [20:34&lt;00:00,  2.42s/it]"
     }
    },
    "b5d3d840cb0e4470999f0a86f7e8de89": {
     "model_module": "@jupyter-widgets/controls",
     "model_module_version": "1.5.0",
     "model_name": "HTMLModel",
     "state": {
      "_dom_classes": [],
      "_model_module": "@jupyter-widgets/controls",
      "_model_module_version": "1.5.0",
      "_model_name": "HTMLModel",
      "_view_count": null,
      "_view_module": "@jupyter-widgets/controls",
      "_view_module_version": "1.5.0",
      "_view_name": "HTMLView",
      "description": "",
      "description_tooltip": null,
      "layout": "IPY_MODEL_3e62db8e3bc8426fb1fc930a8650f3c9",
      "placeholder": "​",
      "style": "IPY_MODEL_6a46ae722d4142f3b5112704fbbccb47",
      "value": " 66/? [00:01&lt;00:00, 84.02it/s]"
     }
    },
    "bcf33ab37e364311a278165da277e854": {
     "model_module": "@jupyter-widgets/base",
     "model_module_version": "1.2.0",
     "model_name": "LayoutModel",
     "state": {
      "_model_module": "@jupyter-widgets/base",
      "_model_module_version": "1.2.0",
      "_model_name": "LayoutModel",
      "_view_count": null,
      "_view_module": "@jupyter-widgets/base",
      "_view_module_version": "1.2.0",
      "_view_name": "LayoutView",
      "align_content": null,
      "align_items": null,
      "align_self": null,
      "border": null,
      "bottom": null,
      "display": null,
      "flex": null,
      "flex_flow": null,
      "grid_area": null,
      "grid_auto_columns": null,
      "grid_auto_flow": null,
      "grid_auto_rows": null,
      "grid_column": null,
      "grid_gap": null,
      "grid_row": null,
      "grid_template_areas": null,
      "grid_template_columns": null,
      "grid_template_rows": null,
      "height": null,
      "justify_content": null,
      "justify_items": null,
      "left": null,
      "margin": null,
      "max_height": null,
      "max_width": null,
      "min_height": null,
      "min_width": null,
      "object_fit": null,
      "object_position": null,
      "order": null,
      "overflow": null,
      "overflow_x": null,
      "overflow_y": null,
      "padding": null,
      "right": null,
      "top": null,
      "visibility": null,
      "width": "20px"
     }
    },
    "bf48e52414644136947233e1a5ca9af7": {
     "model_module": "@jupyter-widgets/controls",
     "model_module_version": "1.5.0",
     "model_name": "FloatProgressModel",
     "state": {
      "_dom_classes": [],
      "_model_module": "@jupyter-widgets/controls",
      "_model_module_version": "1.5.0",
      "_model_name": "FloatProgressModel",
      "_view_count": null,
      "_view_module": "@jupyter-widgets/controls",
      "_view_module_version": "1.5.0",
      "_view_name": "ProgressView",
      "bar_style": "success",
      "description": "",
      "description_tooltip": null,
      "layout": "IPY_MODEL_1c815be6410b4d2d9479fa027b3fbe8a",
      "max": 500,
      "min": 0,
      "orientation": "horizontal",
      "style": "IPY_MODEL_7d4fca7e63c343ccbacd7d056b08e98e",
      "value": 500
     }
    },
    "c0ba67b373e2464f8c84d5d05f150807": {
     "model_module": "@jupyter-widgets/controls",
     "model_module_version": "1.5.0",
     "model_name": "HTMLModel",
     "state": {
      "_dom_classes": [],
      "_model_module": "@jupyter-widgets/controls",
      "_model_module_version": "1.5.0",
      "_model_name": "HTMLModel",
      "_view_count": null,
      "_view_module": "@jupyter-widgets/controls",
      "_view_module_version": "1.5.0",
      "_view_name": "HTMLView",
      "description": "",
      "description_tooltip": null,
      "layout": "IPY_MODEL_16f7116cf97e4499a15fc1bac1ce1311",
      "placeholder": "​",
      "style": "IPY_MODEL_5ec216141ecf426fa7f09b9f69a27dee",
      "value": "100%"
     }
    },
    "cadee175c8f64f6ba0561a060c566b3e": {
     "model_module": "@jupyter-widgets/controls",
     "model_module_version": "1.5.0",
     "model_name": "DescriptionStyleModel",
     "state": {
      "_model_module": "@jupyter-widgets/controls",
      "_model_module_version": "1.5.0",
      "_model_name": "DescriptionStyleModel",
      "_view_count": null,
      "_view_module": "@jupyter-widgets/base",
      "_view_module_version": "1.2.0",
      "_view_name": "StyleView",
      "description_width": ""
     }
    },
    "cf48d93e715049bf8dd025a866e21a08": {
     "model_module": "@jupyter-widgets/controls",
     "model_module_version": "1.5.0",
     "model_name": "FloatProgressModel",
     "state": {
      "_dom_classes": [],
      "_model_module": "@jupyter-widgets/controls",
      "_model_module_version": "1.5.0",
      "_model_name": "FloatProgressModel",
      "_view_count": null,
      "_view_module": "@jupyter-widgets/controls",
      "_view_module_version": "1.5.0",
      "_view_name": "ProgressView",
      "bar_style": "success",
      "description": "",
      "description_tooltip": null,
      "layout": "IPY_MODEL_04eb8c644a414ec88399bd8c180a5089",
      "max": 1,
      "min": 0,
      "orientation": "horizontal",
      "style": "IPY_MODEL_32ce52fc53ee4540bc0e9272780ee575",
      "value": 1
     }
    },
    "d015ca8065014f27926803f7b81752d3": {
     "model_module": "@jupyter-widgets/base",
     "model_module_version": "1.2.0",
     "model_name": "LayoutModel",
     "state": {
      "_model_module": "@jupyter-widgets/base",
      "_model_module_version": "1.2.0",
      "_model_name": "LayoutModel",
      "_view_count": null,
      "_view_module": "@jupyter-widgets/base",
      "_view_module_version": "1.2.0",
      "_view_name": "LayoutView",
      "align_content": null,
      "align_items": null,
      "align_self": null,
      "border": null,
      "bottom": null,
      "display": null,
      "flex": null,
      "flex_flow": null,
      "grid_area": null,
      "grid_auto_columns": null,
      "grid_auto_flow": null,
      "grid_auto_rows": null,
      "grid_column": null,
      "grid_gap": null,
      "grid_row": null,
      "grid_template_areas": null,
      "grid_template_columns": null,
      "grid_template_rows": null,
      "height": null,
      "justify_content": null,
      "justify_items": null,
      "left": null,
      "margin": null,
      "max_height": null,
      "max_width": null,
      "min_height": null,
      "min_width": null,
      "object_fit": null,
      "object_position": null,
      "order": null,
      "overflow": null,
      "overflow_x": null,
      "overflow_y": null,
      "padding": null,
      "right": null,
      "top": null,
      "visibility": null,
      "width": null
     }
    },
    "d25b0ca796fe44eb9fd9da88d74f14ff": {
     "model_module": "@jupyter-widgets/base",
     "model_module_version": "1.2.0",
     "model_name": "LayoutModel",
     "state": {
      "_model_module": "@jupyter-widgets/base",
      "_model_module_version": "1.2.0",
      "_model_name": "LayoutModel",
      "_view_count": null,
      "_view_module": "@jupyter-widgets/base",
      "_view_module_version": "1.2.0",
      "_view_name": "LayoutView",
      "align_content": null,
      "align_items": null,
      "align_self": null,
      "border": null,
      "bottom": null,
      "display": null,
      "flex": null,
      "flex_flow": null,
      "grid_area": null,
      "grid_auto_columns": null,
      "grid_auto_flow": null,
      "grid_auto_rows": null,
      "grid_column": null,
      "grid_gap": null,
      "grid_row": null,
      "grid_template_areas": null,
      "grid_template_columns": null,
      "grid_template_rows": null,
      "height": null,
      "justify_content": null,
      "justify_items": null,
      "left": null,
      "margin": null,
      "max_height": null,
      "max_width": null,
      "min_height": null,
      "min_width": null,
      "object_fit": null,
      "object_position": null,
      "order": null,
      "overflow": null,
      "overflow_x": null,
      "overflow_y": null,
      "padding": null,
      "right": null,
      "top": null,
      "visibility": null,
      "width": null
     }
    },
    "dcdd9a35191541afb6789e6f9e5498b6": {
     "model_module": "@jupyter-widgets/controls",
     "model_module_version": "1.5.0",
     "model_name": "FloatProgressModel",
     "state": {
      "_dom_classes": [],
      "_model_module": "@jupyter-widgets/controls",
      "_model_module_version": "1.5.0",
      "_model_name": "FloatProgressModel",
      "_view_count": null,
      "_view_module": "@jupyter-widgets/controls",
      "_view_module_version": "1.5.0",
      "_view_name": "ProgressView",
      "bar_style": "success",
      "description": "",
      "description_tooltip": null,
      "layout": "IPY_MODEL_bcf33ab37e364311a278165da277e854",
      "max": 1,
      "min": 0,
      "orientation": "horizontal",
      "style": "IPY_MODEL_945c6ebf057442baa1ec25afb34d63fd",
      "value": 1
     }
    },
    "dceb8db6e5ee463c984fa5bf9993b71d": {
     "model_module": "@jupyter-widgets/base",
     "model_module_version": "1.2.0",
     "model_name": "LayoutModel",
     "state": {
      "_model_module": "@jupyter-widgets/base",
      "_model_module_version": "1.2.0",
      "_model_name": "LayoutModel",
      "_view_count": null,
      "_view_module": "@jupyter-widgets/base",
      "_view_module_version": "1.2.0",
      "_view_name": "LayoutView",
      "align_content": null,
      "align_items": null,
      "align_self": null,
      "border": null,
      "bottom": null,
      "display": null,
      "flex": null,
      "flex_flow": null,
      "grid_area": null,
      "grid_auto_columns": null,
      "grid_auto_flow": null,
      "grid_auto_rows": null,
      "grid_column": null,
      "grid_gap": null,
      "grid_row": null,
      "grid_template_areas": null,
      "grid_template_columns": null,
      "grid_template_rows": null,
      "height": null,
      "justify_content": null,
      "justify_items": null,
      "left": null,
      "margin": null,
      "max_height": null,
      "max_width": null,
      "min_height": null,
      "min_width": null,
      "object_fit": null,
      "object_position": null,
      "order": null,
      "overflow": null,
      "overflow_x": null,
      "overflow_y": null,
      "padding": null,
      "right": null,
      "top": null,
      "visibility": null,
      "width": null
     }
    },
    "e0364a8de3094c3684d2dfc53f98f107": {
     "model_module": "@jupyter-widgets/controls",
     "model_module_version": "1.5.0",
     "model_name": "DescriptionStyleModel",
     "state": {
      "_model_module": "@jupyter-widgets/controls",
      "_model_module_version": "1.5.0",
      "_model_name": "DescriptionStyleModel",
      "_view_count": null,
      "_view_module": "@jupyter-widgets/base",
      "_view_module_version": "1.2.0",
      "_view_name": "StyleView",
      "description_width": ""
     }
    },
    "e57dd14432b243d69c3b841413faa1a5": {
     "model_module": "@jupyter-widgets/controls",
     "model_module_version": "1.5.0",
     "model_name": "HTMLModel",
     "state": {
      "_dom_classes": [],
      "_model_module": "@jupyter-widgets/controls",
      "_model_module_version": "1.5.0",
      "_model_name": "HTMLModel",
      "_view_count": null,
      "_view_module": "@jupyter-widgets/controls",
      "_view_module_version": "1.5.0",
      "_view_name": "HTMLView",
      "description": "",
      "description_tooltip": null,
      "layout": "IPY_MODEL_a0fddca6147040d5a9510458f1431dea",
      "placeholder": "​",
      "style": "IPY_MODEL_cadee175c8f64f6ba0561a060c566b3e",
      "value": " 498/? [00:10&lt;00:00, 50.28it/s]"
     }
    },
    "f4b792867a6a412baf9a62cd19263584": {
     "model_module": "@jupyter-widgets/controls",
     "model_module_version": "1.5.0",
     "model_name": "HTMLModel",
     "state": {
      "_dom_classes": [],
      "_model_module": "@jupyter-widgets/controls",
      "_model_module_version": "1.5.0",
      "_model_name": "HTMLModel",
      "_view_count": null,
      "_view_module": "@jupyter-widgets/controls",
      "_view_module_version": "1.5.0",
      "_view_name": "HTMLView",
      "description": "",
      "description_tooltip": null,
      "layout": "IPY_MODEL_10adf46fd64d487780bc359af0813ae0",
      "placeholder": "​",
      "style": "IPY_MODEL_e0364a8de3094c3684d2dfc53f98f107",
      "value": ""
     }
    }
   }
  }
 },
 "nbformat": 4,
 "nbformat_minor": 1
}
